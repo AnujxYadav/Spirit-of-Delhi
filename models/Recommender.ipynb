{
  "nbformat": 4,
  "nbformat_minor": 0,
  "metadata": {
    "colab": {
      "name": "Recommender.ipynb",
      "provenance": [],
      "collapsed_sections": []
    },
    "kernelspec": {
      "name": "python3",
      "display_name": "Python 3"
    },
    "language_info": {
      "name": "python"
    }
  },
  "cells": [
    {
      "cell_type": "code",
      "execution_count": 5,
      "metadata": {
        "id": "injUwivaPceX"
      },
      "outputs": [],
      "source": [
        "#Importing libraries\n",
        "import numpy as np\n",
        "import pandas as pd"
      ]
    },
    {
      "cell_type": "code",
      "source": [
        "#Reading the dataset\n",
        "lcfa_rest = pd.read_csv('/content/Cleaned_Restaurants.csv')"
      ],
      "metadata": {
        "id": "-wIU4YqKPuR2"
      },
      "execution_count": 6,
      "outputs": []
    },
    {
      "cell_type": "code",
      "source": [
        "#Showing the first 5(default) rows of the dataset\n",
        "lcfa_rest.head()"
      ],
      "metadata": {
        "colab": {
          "base_uri": "https://localhost:8080/",
          "height": 669
        },
        "id": "IRCBmvYrP5eK",
        "outputId": "4d16ab46-b960-4b6c-f5f2-205eb9e79c2f"
      },
      "execution_count": 7,
      "outputs": [
        {
          "output_type": "execute_result",
          "data": {
            "text/plain": [
              "   Unnamed: 0  old_index                Restaurant_Name  \\\n",
              "0           0          1                      Cafe Lota   \n",
              "1           1          3                    Burma Burma   \n",
              "2           2          4                  The Big Chill   \n",
              "3           3          5                  Carnatic Cafe   \n",
              "4           4          6  Cocktails & Dreams, Speakeasy   \n",
              "\n",
              "                                      Category  Pricing_for_2  \\\n",
              "0  Cafe, South Indian, North Indian, Beverages           1200   \n",
              "1  Asian, Burmese, Bubble Tea, Desserts, Salad           1600   \n",
              "2               Continental, American, Italian           1500   \n",
              "3                                 South Indian            600   \n",
              "4                 Nepalese, Tibetan, Beverages           2500   \n",
              "\n",
              "                              Locality  Dining_Rating  Dining_Review_Count  \\\n",
              "0            Pragati Maidan, New Delhi            4.9                 3748   \n",
              "1   Cyber Hub, DLF Cyber City, Gurgaon            4.9                 2636   \n",
              "2               Khan Market, New Delhi            4.9                 6487   \n",
              "3              Lodhi Colony, New Delhi            4.9                 2518   \n",
              "4                   Sector 15, Gurgaon            4.9                 1299   \n",
              "\n",
              "                                             Website  \\\n",
              "0  https://www.zomato.com/ncr/cafe-lota-pragati-m...   \n",
              "1  https://www.zomato.com/ncr/burma-burma-dlf-cyb...   \n",
              "2  https://www.zomato.com/ncr/the-big-chill-khan-...   \n",
              "3  https://www.zomato.com/ncr/carnatic-cafe-lodhi...   \n",
              "4  https://www.zomato.com/ncr/cocktails-dreams-sp...   \n",
              "\n",
              "                                          Known_For2  \\\n",
              "0  Pondicherry Fish Curry, Coconut Rabdi, Sabudan...   \n",
              "1  Coconut Milk Dessert, Honey Caviar, Kaffir Lim...   \n",
              "2  Irish Cream Tiramisu, Penne Vodka, Mississippi...   \n",
              "3  Malleshwari Dosa, Benne Khali Dosa, Obbattu, R...   \n",
              "4  Classic Martini, Coktails, Bloody Mary, Calama...   \n",
              "\n",
              "                                         Known_For22  \n",
              "0  Artistic Decor, The Service, Natural Ambience,...  \n",
              "1  Knowledgeable Staff, Authentic, Soothing Ambie...  \n",
              "2  Retro Ambience, Yummy Desserts, Big Portions, ...  \n",
              "3  Cosy Ambience, Live Kitchen, Quiet Place, Calm...  \n",
              "4  Jazz Music, Band Playing, Bartender, Live Band...  "
            ],
            "text/html": [
              "\n",
              "  <div id=\"df-c8a5941b-8194-42b6-9a0f-befee584f405\">\n",
              "    <div class=\"colab-df-container\">\n",
              "      <div>\n",
              "<style scoped>\n",
              "    .dataframe tbody tr th:only-of-type {\n",
              "        vertical-align: middle;\n",
              "    }\n",
              "\n",
              "    .dataframe tbody tr th {\n",
              "        vertical-align: top;\n",
              "    }\n",
              "\n",
              "    .dataframe thead th {\n",
              "        text-align: right;\n",
              "    }\n",
              "</style>\n",
              "<table border=\"1\" class=\"dataframe\">\n",
              "  <thead>\n",
              "    <tr style=\"text-align: right;\">\n",
              "      <th></th>\n",
              "      <th>Unnamed: 0</th>\n",
              "      <th>old_index</th>\n",
              "      <th>Restaurant_Name</th>\n",
              "      <th>Category</th>\n",
              "      <th>Pricing_for_2</th>\n",
              "      <th>Locality</th>\n",
              "      <th>Dining_Rating</th>\n",
              "      <th>Dining_Review_Count</th>\n",
              "      <th>Website</th>\n",
              "      <th>Known_For2</th>\n",
              "      <th>Known_For22</th>\n",
              "    </tr>\n",
              "  </thead>\n",
              "  <tbody>\n",
              "    <tr>\n",
              "      <th>0</th>\n",
              "      <td>0</td>\n",
              "      <td>1</td>\n",
              "      <td>Cafe Lota</td>\n",
              "      <td>Cafe, South Indian, North Indian, Beverages</td>\n",
              "      <td>1200</td>\n",
              "      <td>Pragati Maidan, New Delhi</td>\n",
              "      <td>4.9</td>\n",
              "      <td>3748</td>\n",
              "      <td>https://www.zomato.com/ncr/cafe-lota-pragati-m...</td>\n",
              "      <td>Pondicherry Fish Curry, Coconut Rabdi, Sabudan...</td>\n",
              "      <td>Artistic Decor, The Service, Natural Ambience,...</td>\n",
              "    </tr>\n",
              "    <tr>\n",
              "      <th>1</th>\n",
              "      <td>1</td>\n",
              "      <td>3</td>\n",
              "      <td>Burma Burma</td>\n",
              "      <td>Asian, Burmese, Bubble Tea, Desserts, Salad</td>\n",
              "      <td>1600</td>\n",
              "      <td>Cyber Hub, DLF Cyber City, Gurgaon</td>\n",
              "      <td>4.9</td>\n",
              "      <td>2636</td>\n",
              "      <td>https://www.zomato.com/ncr/burma-burma-dlf-cyb...</td>\n",
              "      <td>Coconut Milk Dessert, Honey Caviar, Kaffir Lim...</td>\n",
              "      <td>Knowledgeable Staff, Authentic, Soothing Ambie...</td>\n",
              "    </tr>\n",
              "    <tr>\n",
              "      <th>2</th>\n",
              "      <td>2</td>\n",
              "      <td>4</td>\n",
              "      <td>The Big Chill</td>\n",
              "      <td>Continental, American, Italian</td>\n",
              "      <td>1500</td>\n",
              "      <td>Khan Market, New Delhi</td>\n",
              "      <td>4.9</td>\n",
              "      <td>6487</td>\n",
              "      <td>https://www.zomato.com/ncr/the-big-chill-khan-...</td>\n",
              "      <td>Irish Cream Tiramisu, Penne Vodka, Mississippi...</td>\n",
              "      <td>Retro Ambience, Yummy Desserts, Big Portions, ...</td>\n",
              "    </tr>\n",
              "    <tr>\n",
              "      <th>3</th>\n",
              "      <td>3</td>\n",
              "      <td>5</td>\n",
              "      <td>Carnatic Cafe</td>\n",
              "      <td>South Indian</td>\n",
              "      <td>600</td>\n",
              "      <td>Lodhi Colony, New Delhi</td>\n",
              "      <td>4.9</td>\n",
              "      <td>2518</td>\n",
              "      <td>https://www.zomato.com/ncr/carnatic-cafe-lodhi...</td>\n",
              "      <td>Malleshwari Dosa, Benne Khali Dosa, Obbattu, R...</td>\n",
              "      <td>Cosy Ambience, Live Kitchen, Quiet Place, Calm...</td>\n",
              "    </tr>\n",
              "    <tr>\n",
              "      <th>4</th>\n",
              "      <td>4</td>\n",
              "      <td>6</td>\n",
              "      <td>Cocktails &amp; Dreams, Speakeasy</td>\n",
              "      <td>Nepalese, Tibetan, Beverages</td>\n",
              "      <td>2500</td>\n",
              "      <td>Sector 15, Gurgaon</td>\n",
              "      <td>4.9</td>\n",
              "      <td>1299</td>\n",
              "      <td>https://www.zomato.com/ncr/cocktails-dreams-sp...</td>\n",
              "      <td>Classic Martini, Coktails, Bloody Mary, Calama...</td>\n",
              "      <td>Jazz Music, Band Playing, Bartender, Live Band...</td>\n",
              "    </tr>\n",
              "  </tbody>\n",
              "</table>\n",
              "</div>\n",
              "      <button class=\"colab-df-convert\" onclick=\"convertToInteractive('df-c8a5941b-8194-42b6-9a0f-befee584f405')\"\n",
              "              title=\"Convert this dataframe to an interactive table.\"\n",
              "              style=\"display:none;\">\n",
              "        \n",
              "  <svg xmlns=\"http://www.w3.org/2000/svg\" height=\"24px\"viewBox=\"0 0 24 24\"\n",
              "       width=\"24px\">\n",
              "    <path d=\"M0 0h24v24H0V0z\" fill=\"none\"/>\n",
              "    <path d=\"M18.56 5.44l.94 2.06.94-2.06 2.06-.94-2.06-.94-.94-2.06-.94 2.06-2.06.94zm-11 1L8.5 8.5l.94-2.06 2.06-.94-2.06-.94L8.5 2.5l-.94 2.06-2.06.94zm10 10l.94 2.06.94-2.06 2.06-.94-2.06-.94-.94-2.06-.94 2.06-2.06.94z\"/><path d=\"M17.41 7.96l-1.37-1.37c-.4-.4-.92-.59-1.43-.59-.52 0-1.04.2-1.43.59L10.3 9.45l-7.72 7.72c-.78.78-.78 2.05 0 2.83L4 21.41c.39.39.9.59 1.41.59.51 0 1.02-.2 1.41-.59l7.78-7.78 2.81-2.81c.8-.78.8-2.07 0-2.86zM5.41 20L4 18.59l7.72-7.72 1.47 1.35L5.41 20z\"/>\n",
              "  </svg>\n",
              "      </button>\n",
              "      \n",
              "  <style>\n",
              "    .colab-df-container {\n",
              "      display:flex;\n",
              "      flex-wrap:wrap;\n",
              "      gap: 12px;\n",
              "    }\n",
              "\n",
              "    .colab-df-convert {\n",
              "      background-color: #E8F0FE;\n",
              "      border: none;\n",
              "      border-radius: 50%;\n",
              "      cursor: pointer;\n",
              "      display: none;\n",
              "      fill: #1967D2;\n",
              "      height: 32px;\n",
              "      padding: 0 0 0 0;\n",
              "      width: 32px;\n",
              "    }\n",
              "\n",
              "    .colab-df-convert:hover {\n",
              "      background-color: #E2EBFA;\n",
              "      box-shadow: 0px 1px 2px rgba(60, 64, 67, 0.3), 0px 1px 3px 1px rgba(60, 64, 67, 0.15);\n",
              "      fill: #174EA6;\n",
              "    }\n",
              "\n",
              "    [theme=dark] .colab-df-convert {\n",
              "      background-color: #3B4455;\n",
              "      fill: #D2E3FC;\n",
              "    }\n",
              "\n",
              "    [theme=dark] .colab-df-convert:hover {\n",
              "      background-color: #434B5C;\n",
              "      box-shadow: 0px 1px 3px 1px rgba(0, 0, 0, 0.15);\n",
              "      filter: drop-shadow(0px 1px 2px rgba(0, 0, 0, 0.3));\n",
              "      fill: #FFFFFF;\n",
              "    }\n",
              "  </style>\n",
              "\n",
              "      <script>\n",
              "        const buttonEl =\n",
              "          document.querySelector('#df-c8a5941b-8194-42b6-9a0f-befee584f405 button.colab-df-convert');\n",
              "        buttonEl.style.display =\n",
              "          google.colab.kernel.accessAllowed ? 'block' : 'none';\n",
              "\n",
              "        async function convertToInteractive(key) {\n",
              "          const element = document.querySelector('#df-c8a5941b-8194-42b6-9a0f-befee584f405');\n",
              "          const dataTable =\n",
              "            await google.colab.kernel.invokeFunction('convertToInteractive',\n",
              "                                                     [key], {});\n",
              "          if (!dataTable) return;\n",
              "\n",
              "          const docLinkHtml = 'Like what you see? Visit the ' +\n",
              "            '<a target=\"_blank\" href=https://colab.research.google.com/notebooks/data_table.ipynb>data table notebook</a>'\n",
              "            + ' to learn more about interactive tables.';\n",
              "          element.innerHTML = '';\n",
              "          dataTable['output_type'] = 'display_data';\n",
              "          await google.colab.output.renderOutput(dataTable, element);\n",
              "          const docLink = document.createElement('div');\n",
              "          docLink.innerHTML = docLinkHtml;\n",
              "          element.appendChild(docLink);\n",
              "        }\n",
              "      </script>\n",
              "    </div>\n",
              "  </div>\n",
              "  "
            ]
          },
          "metadata": {},
          "execution_count": 7
        }
      ]
    },
    {
      "cell_type": "code",
      "source": [
        "lcfa_rest.shape"
      ],
      "metadata": {
        "colab": {
          "base_uri": "https://localhost:8080/"
        },
        "id": "-ruPp7-JWeK9",
        "outputId": "01dcfabc-1ef5-4544-b1bd-4b42e6021f67"
      },
      "execution_count": 8,
      "outputs": [
        {
          "output_type": "execute_result",
          "data": {
            "text/plain": [
              "(1124, 11)"
            ]
          },
          "metadata": {},
          "execution_count": 8
        }
      ]
    },
    {
      "cell_type": "code",
      "source": [
        "#To change 'category' to a list of items\n",
        "lcfa_rest['Category']=lcfa_rest['Category'].apply(lambda x:x.split(\",\"))\n",
        "#To change 'locality' to a list of items\n",
        "lcfa_rest['Locality']=lcfa_rest['Locality'].apply(lambda x:x.split(\",\"))\n",
        "#To change the 'Known_For2' to a list of items\n",
        "lcfa_rest['Known_For2']=lcfa_rest['Known_For2'].apply(lambda x:x.split(\" \"))\n",
        "#To change the 'Known_For22' to a list of items\n",
        "lcfa_rest['Known_For22']=lcfa_rest['Known_For22'].apply(lambda x:x.split(\" \"))"
      ],
      "metadata": {
        "id": "RPYJU4ydP-gk"
      },
      "execution_count": 9,
      "outputs": []
    },
    {
      "cell_type": "code",
      "source": [
        "#To make a new dataframe 'model_lc_rest' having only 3 columns from lc_rest\n",
        "model_lcfa_rest=lcfa_rest[['Restaurant_Name','Category','Locality','Known_For2','Known_For22']]\n",
        "#To remove the space present in between consecutive words in the column 'Category' and 'Locality'\n",
        "model_lcfa_rest['Category']=model_lcfa_rest['Category'].apply(lambda x:[i.replace(\" \",\"\") for i in x])\n",
        "model_lcfa_rest['Locality']=model_lcfa_rest['Locality'].apply(lambda x:[i.replace(' ','') for i in x])\n",
        "#To make a new column tags having all the words of columns 'Category' and 'Locality'\n",
        "model_lcfa_rest['tags']=model_lcfa_rest['Category']+model_lcfa_rest['Locality']+model_lcfa_rest['Known_For2']+model_lcfa_rest['Known_For22']\n",
        "#To drop the columns 'Category' and 'Locality'\n",
        "model_lcfa_rest=model_lcfa_rest.drop(['Category','Locality','Known_For2','Known_For22'],axis=1)\n",
        "#To form a string from the list present in the column 'Tags'\n",
        "model_lcfa_rest['tags']=model_lcfa_rest['tags'].apply(lambda x:\" \".join(x))\n",
        "#To make all the alphabets in lowercase\n",
        "model_lcfa_rest['tags']=model_lcfa_rest['tags'].apply(lambda x:x.lower())\n",
        "#To get the first five rows displayed\n",
        "model_lcfa_rest.head()"
      ],
      "metadata": {
        "colab": {
          "base_uri": "https://localhost:8080/",
          "height": 553
        },
        "id": "BoKo8Ob5QLTX",
        "outputId": "cd63ef23-2eed-4cff-f303-4aa1fd1d350e"
      },
      "execution_count": 10,
      "outputs": [
        {
          "output_type": "stream",
          "name": "stderr",
          "text": [
            "/usr/local/lib/python3.7/dist-packages/ipykernel_launcher.py:4: SettingWithCopyWarning: \n",
            "A value is trying to be set on a copy of a slice from a DataFrame.\n",
            "Try using .loc[row_indexer,col_indexer] = value instead\n",
            "\n",
            "See the caveats in the documentation: https://pandas.pydata.org/pandas-docs/stable/user_guide/indexing.html#returning-a-view-versus-a-copy\n",
            "  after removing the cwd from sys.path.\n",
            "/usr/local/lib/python3.7/dist-packages/ipykernel_launcher.py:5: SettingWithCopyWarning: \n",
            "A value is trying to be set on a copy of a slice from a DataFrame.\n",
            "Try using .loc[row_indexer,col_indexer] = value instead\n",
            "\n",
            "See the caveats in the documentation: https://pandas.pydata.org/pandas-docs/stable/user_guide/indexing.html#returning-a-view-versus-a-copy\n",
            "  \"\"\"\n",
            "/usr/local/lib/python3.7/dist-packages/ipykernel_launcher.py:7: SettingWithCopyWarning: \n",
            "A value is trying to be set on a copy of a slice from a DataFrame.\n",
            "Try using .loc[row_indexer,col_indexer] = value instead\n",
            "\n",
            "See the caveats in the documentation: https://pandas.pydata.org/pandas-docs/stable/user_guide/indexing.html#returning-a-view-versus-a-copy\n",
            "  import sys\n"
          ]
        },
        {
          "output_type": "execute_result",
          "data": {
            "text/plain": [
              "                 Restaurant_Name  \\\n",
              "0                      Cafe Lota   \n",
              "1                    Burma Burma   \n",
              "2                  The Big Chill   \n",
              "3                  Carnatic Cafe   \n",
              "4  Cocktails & Dreams, Speakeasy   \n",
              "\n",
              "                                                tags  \n",
              "0  cafe southindian northindian beverages pragati...  \n",
              "1  asian burmese bubbletea desserts salad cyberhu...  \n",
              "2  continental american italian khanmarket newdel...  \n",
              "3  southindian lodhicolony newdelhi malleshwari d...  \n",
              "4  nepalese tibetan beverages sector15 gurgaon cl...  "
            ],
            "text/html": [
              "\n",
              "  <div id=\"df-0ad17e81-5b05-4a46-b2d4-9b14508583de\">\n",
              "    <div class=\"colab-df-container\">\n",
              "      <div>\n",
              "<style scoped>\n",
              "    .dataframe tbody tr th:only-of-type {\n",
              "        vertical-align: middle;\n",
              "    }\n",
              "\n",
              "    .dataframe tbody tr th {\n",
              "        vertical-align: top;\n",
              "    }\n",
              "\n",
              "    .dataframe thead th {\n",
              "        text-align: right;\n",
              "    }\n",
              "</style>\n",
              "<table border=\"1\" class=\"dataframe\">\n",
              "  <thead>\n",
              "    <tr style=\"text-align: right;\">\n",
              "      <th></th>\n",
              "      <th>Restaurant_Name</th>\n",
              "      <th>tags</th>\n",
              "    </tr>\n",
              "  </thead>\n",
              "  <tbody>\n",
              "    <tr>\n",
              "      <th>0</th>\n",
              "      <td>Cafe Lota</td>\n",
              "      <td>cafe southindian northindian beverages pragati...</td>\n",
              "    </tr>\n",
              "    <tr>\n",
              "      <th>1</th>\n",
              "      <td>Burma Burma</td>\n",
              "      <td>asian burmese bubbletea desserts salad cyberhu...</td>\n",
              "    </tr>\n",
              "    <tr>\n",
              "      <th>2</th>\n",
              "      <td>The Big Chill</td>\n",
              "      <td>continental american italian khanmarket newdel...</td>\n",
              "    </tr>\n",
              "    <tr>\n",
              "      <th>3</th>\n",
              "      <td>Carnatic Cafe</td>\n",
              "      <td>southindian lodhicolony newdelhi malleshwari d...</td>\n",
              "    </tr>\n",
              "    <tr>\n",
              "      <th>4</th>\n",
              "      <td>Cocktails &amp; Dreams, Speakeasy</td>\n",
              "      <td>nepalese tibetan beverages sector15 gurgaon cl...</td>\n",
              "    </tr>\n",
              "  </tbody>\n",
              "</table>\n",
              "</div>\n",
              "      <button class=\"colab-df-convert\" onclick=\"convertToInteractive('df-0ad17e81-5b05-4a46-b2d4-9b14508583de')\"\n",
              "              title=\"Convert this dataframe to an interactive table.\"\n",
              "              style=\"display:none;\">\n",
              "        \n",
              "  <svg xmlns=\"http://www.w3.org/2000/svg\" height=\"24px\"viewBox=\"0 0 24 24\"\n",
              "       width=\"24px\">\n",
              "    <path d=\"M0 0h24v24H0V0z\" fill=\"none\"/>\n",
              "    <path d=\"M18.56 5.44l.94 2.06.94-2.06 2.06-.94-2.06-.94-.94-2.06-.94 2.06-2.06.94zm-11 1L8.5 8.5l.94-2.06 2.06-.94-2.06-.94L8.5 2.5l-.94 2.06-2.06.94zm10 10l.94 2.06.94-2.06 2.06-.94-2.06-.94-.94-2.06-.94 2.06-2.06.94z\"/><path d=\"M17.41 7.96l-1.37-1.37c-.4-.4-.92-.59-1.43-.59-.52 0-1.04.2-1.43.59L10.3 9.45l-7.72 7.72c-.78.78-.78 2.05 0 2.83L4 21.41c.39.39.9.59 1.41.59.51 0 1.02-.2 1.41-.59l7.78-7.78 2.81-2.81c.8-.78.8-2.07 0-2.86zM5.41 20L4 18.59l7.72-7.72 1.47 1.35L5.41 20z\"/>\n",
              "  </svg>\n",
              "      </button>\n",
              "      \n",
              "  <style>\n",
              "    .colab-df-container {\n",
              "      display:flex;\n",
              "      flex-wrap:wrap;\n",
              "      gap: 12px;\n",
              "    }\n",
              "\n",
              "    .colab-df-convert {\n",
              "      background-color: #E8F0FE;\n",
              "      border: none;\n",
              "      border-radius: 50%;\n",
              "      cursor: pointer;\n",
              "      display: none;\n",
              "      fill: #1967D2;\n",
              "      height: 32px;\n",
              "      padding: 0 0 0 0;\n",
              "      width: 32px;\n",
              "    }\n",
              "\n",
              "    .colab-df-convert:hover {\n",
              "      background-color: #E2EBFA;\n",
              "      box-shadow: 0px 1px 2px rgba(60, 64, 67, 0.3), 0px 1px 3px 1px rgba(60, 64, 67, 0.15);\n",
              "      fill: #174EA6;\n",
              "    }\n",
              "\n",
              "    [theme=dark] .colab-df-convert {\n",
              "      background-color: #3B4455;\n",
              "      fill: #D2E3FC;\n",
              "    }\n",
              "\n",
              "    [theme=dark] .colab-df-convert:hover {\n",
              "      background-color: #434B5C;\n",
              "      box-shadow: 0px 1px 3px 1px rgba(0, 0, 0, 0.15);\n",
              "      filter: drop-shadow(0px 1px 2px rgba(0, 0, 0, 0.3));\n",
              "      fill: #FFFFFF;\n",
              "    }\n",
              "  </style>\n",
              "\n",
              "      <script>\n",
              "        const buttonEl =\n",
              "          document.querySelector('#df-0ad17e81-5b05-4a46-b2d4-9b14508583de button.colab-df-convert');\n",
              "        buttonEl.style.display =\n",
              "          google.colab.kernel.accessAllowed ? 'block' : 'none';\n",
              "\n",
              "        async function convertToInteractive(key) {\n",
              "          const element = document.querySelector('#df-0ad17e81-5b05-4a46-b2d4-9b14508583de');\n",
              "          const dataTable =\n",
              "            await google.colab.kernel.invokeFunction('convertToInteractive',\n",
              "                                                     [key], {});\n",
              "          if (!dataTable) return;\n",
              "\n",
              "          const docLinkHtml = 'Like what you see? Visit the ' +\n",
              "            '<a target=\"_blank\" href=https://colab.research.google.com/notebooks/data_table.ipynb>data table notebook</a>'\n",
              "            + ' to learn more about interactive tables.';\n",
              "          element.innerHTML = '';\n",
              "          dataTable['output_type'] = 'display_data';\n",
              "          await google.colab.output.renderOutput(dataTable, element);\n",
              "          const docLink = document.createElement('div');\n",
              "          docLink.innerHTML = docLinkHtml;\n",
              "          element.appendChild(docLink);\n",
              "        }\n",
              "      </script>\n",
              "    </div>\n",
              "  </div>\n",
              "  "
            ]
          },
          "metadata": {},
          "execution_count": 10
        }
      ]
    },
    {
      "cell_type": "code",
      "source": [
        "#To import 'CountVectorizer', a function to vectorise the string\n",
        "from sklearn.feature_extraction.text import CountVectorizer\n",
        "cv=CountVectorizer(max_features=2260, stop_words='english')"
      ],
      "metadata": {
        "id": "C8qArt0sQ84o"
      },
      "execution_count": 11,
      "outputs": []
    },
    {
      "cell_type": "code",
      "source": [
        "#To see the occurrance of each word in each restaurant\n",
        "vectors=cv.fit_transform(model_lcfa_rest['tags']).toarray()"
      ],
      "metadata": {
        "id": "Jb2lVEsUWFfk"
      },
      "execution_count": 12,
      "outputs": []
    },
    {
      "cell_type": "code",
      "source": [
        "#To get the shape of the vectors\n",
        "vectors.shape"
      ],
      "metadata": {
        "colab": {
          "base_uri": "https://localhost:8080/"
        },
        "id": "RRrKVdt3WNUB",
        "outputId": "b6071d83-31f0-45eb-def8-d32fac46e172"
      },
      "execution_count": 13,
      "outputs": [
        {
          "output_type": "execute_result",
          "data": {
            "text/plain": [
              "(1124, 2260)"
            ]
          },
          "metadata": {},
          "execution_count": 13
        }
      ]
    },
    {
      "cell_type": "code",
      "source": [
        "#Import the library for calculating similarity matrix\n",
        "from sklearn.metrics.pairwise import cosine_similarity\n",
        "similarity=cosine_similarity(vectors)"
      ],
      "metadata": {
        "id": "sG_Iqr8cWPfy"
      },
      "execution_count": 14,
      "outputs": []
    },
    {
      "cell_type": "code",
      "source": [
        "res_list=[]\n",
        "for rest_index in range(1124):\n",
        "  distances = similarity[rest_index]\n",
        "  #To give a list of similar movies sorted in descending order\n",
        "  res_list.append(sorted(list(enumerate(list(distances))),reverse=True,key=lambda x:x[1])[1:11])\n",
        "\n"
      ],
      "metadata": {
        "id": "S2dTh7c_WTqV"
      },
      "execution_count": 15,
      "outputs": []
    },
    {
      "cell_type": "code",
      "source": [
        "import json"
      ],
      "metadata": {
        "id": "LjhqMSa1WV0I"
      },
      "execution_count": 16,
      "outputs": []
    },
    {
      "cell_type": "code",
      "source": [
        "with open('rest_recommend.json','w') as f:\n",
        "  json.dump(res_list,f)"
      ],
      "metadata": {
        "id": "B9K9KbTfYbp2"
      },
      "execution_count": 17,
      "outputs": []
    },
    {
      "cell_type": "code",
      "source": [
        ""
      ],
      "metadata": {
        "id": "H6ZG22rFYemR"
      },
      "execution_count": null,
      "outputs": []
    }
  ]
}